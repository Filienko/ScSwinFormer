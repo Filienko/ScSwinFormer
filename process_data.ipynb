{
 "cells": [
  {
   "cell_type": "code",
   "execution_count": null,
   "metadata": {},
   "outputs": [
    {
     "name": "stderr",
     "output_type": "stream",
     "text": [
      "C:\\Users\\ksush\\AppData\\Local\\Packages\\PythonSoftwareFoundation.Python.3.9_qbz5n2kfra8p0\\LocalCache\\local-packages\\Python39\\site-packages\\anndata\\_core\\anndata.py:1754: UserWarning: Observation names are not unique. To make them unique, call `.obs_names_make_unique`.\n",
      "  utils.warn_names_duplicates(\"obs\")\n"
     ]
    }
   ],
   "source": [
    "import os\n",
    "os.environ['CUDA_VISIBLE_DEVICES'] = '1'\n",
    "\n",
    "import anndata as ad\n",
    "import scanpy as sc\n",
    "import matplotlib.pyplot as plt\n",
    "import numpy as np\n",
    "import pandas as pd\n",
    "import random\n",
    "from scipy import stats\n",
    "import torch\n",
    "import sys\n",
    "testset = sc.read_h5ad('muris_mam_spl_T_B.h5ad')\n"
   ]
  },
  {
   "cell_type": "code",
   "execution_count": 8,
   "metadata": {},
   "outputs": [],
   "source": [
    "df = pd.DataFrame(testset.X)"
   ]
  },
  {
   "cell_type": "code",
   "execution_count": 16,
   "metadata": {},
   "outputs": [
    {
     "data": {
      "text/html": [
       "<div>\n",
       "<style scoped>\n",
       "    .dataframe tbody tr th:only-of-type {\n",
       "        vertical-align: middle;\n",
       "    }\n",
       "\n",
       "    .dataframe tbody tr th {\n",
       "        vertical-align: top;\n",
       "    }\n",
       "\n",
       "    .dataframe thead th {\n",
       "        text-align: right;\n",
       "    }\n",
       "</style>\n",
       "<table border=\"1\" class=\"dataframe\">\n",
       "  <thead>\n",
       "    <tr style=\"text-align: right;\">\n",
       "      <th></th>\n",
       "      <th>0</th>\n",
       "    </tr>\n",
       "  </thead>\n",
       "  <tbody>\n",
       "    <tr>\n",
       "      <th>0</th>\n",
       "      <td>(0, 4)\\t1.0\\n  (0, 5)\\t1.0\\n  (0, 13)\\t5.0\\n...</td>\n",
       "    </tr>\n",
       "    <tr>\n",
       "      <th>1</th>\n",
       "      <td>(0, 50)\\t21.0\\n  (0, 122)\\t1.0\\n  (0, 145)\\t...</td>\n",
       "    </tr>\n",
       "    <tr>\n",
       "      <th>2</th>\n",
       "      <td>(0, 50)\\t20.0\\n  (0, 54)\\t1.0\\n  (0, 124)\\t5...</td>\n",
       "    </tr>\n",
       "    <tr>\n",
       "      <th>3</th>\n",
       "      <td>(0, 13)\\t2.0\\n  (0, 24)\\t3.0\\n  (0, 39)\\t1.0...</td>\n",
       "    </tr>\n",
       "    <tr>\n",
       "      <th>4</th>\n",
       "      <td>(0, 39)\\t1.0\\n  (0, 50)\\t23.0\\n  (0, 123)\\t1...</td>\n",
       "    </tr>\n",
       "    <tr>\n",
       "      <th>...</th>\n",
       "      <td>...</td>\n",
       "    </tr>\n",
       "    <tr>\n",
       "      <th>11325</th>\n",
       "      <td>(0, 5)\\t1.0\\n  (0, 10)\\t1.0\\n  (0, 13)\\t1.0\\...</td>\n",
       "    </tr>\n",
       "    <tr>\n",
       "      <th>11326</th>\n",
       "      <td>(0, 5)\\t1.0\\n  (0, 38)\\t1.0\\n  (0, 50)\\t10.0...</td>\n",
       "    </tr>\n",
       "    <tr>\n",
       "      <th>11327</th>\n",
       "      <td>(0, 3)\\t2.0\\n  (0, 4)\\t2.0\\n  (0, 5)\\t3.0\\n ...</td>\n",
       "    </tr>\n",
       "    <tr>\n",
       "      <th>11328</th>\n",
       "      <td>(0, 10)\\t1.0\\n  (0, 29)\\t1.0\\n  (0, 50)\\t11....</td>\n",
       "    </tr>\n",
       "    <tr>\n",
       "      <th>11329</th>\n",
       "      <td>(0, 4)\\t1.0\\n  (0, 15)\\t1.0\\n  (0, 24)\\t3.0\\...</td>\n",
       "    </tr>\n",
       "  </tbody>\n",
       "</table>\n",
       "<p>11330 rows × 1 columns</p>\n",
       "</div>"
      ],
      "text/plain": [
       "                                                       0\n",
       "0        (0, 4)\\t1.0\\n  (0, 5)\\t1.0\\n  (0, 13)\\t5.0\\n...\n",
       "1        (0, 50)\\t21.0\\n  (0, 122)\\t1.0\\n  (0, 145)\\t...\n",
       "2        (0, 50)\\t20.0\\n  (0, 54)\\t1.0\\n  (0, 124)\\t5...\n",
       "3        (0, 13)\\t2.0\\n  (0, 24)\\t3.0\\n  (0, 39)\\t1.0...\n",
       "4        (0, 39)\\t1.0\\n  (0, 50)\\t23.0\\n  (0, 123)\\t1...\n",
       "...                                                  ...\n",
       "11325    (0, 5)\\t1.0\\n  (0, 10)\\t1.0\\n  (0, 13)\\t1.0\\...\n",
       "11326    (0, 5)\\t1.0\\n  (0, 38)\\t1.0\\n  (0, 50)\\t10.0...\n",
       "11327    (0, 3)\\t2.0\\n  (0, 4)\\t2.0\\n  (0, 5)\\t3.0\\n ...\n",
       "11328    (0, 10)\\t1.0\\n  (0, 29)\\t1.0\\n  (0, 50)\\t11....\n",
       "11329    (0, 4)\\t1.0\\n  (0, 15)\\t1.0\\n  (0, 24)\\t3.0\\...\n",
       "\n",
       "[11330 rows x 1 columns]"
      ]
     },
     "execution_count": 16,
     "metadata": {},
     "output_type": "execute_result"
    }
   ],
   "source": [
    "df"
   ]
  },
  {
   "cell_type": "code",
   "execution_count": null,
   "metadata": {},
   "outputs": [],
   "source": []
  }
 ],
 "metadata": {
  "kernelspec": {
   "display_name": "Python 3",
   "language": "python",
   "name": "python3"
  },
  "language_info": {
   "codemirror_mode": {
    "name": "ipython",
    "version": 3
   },
   "file_extension": ".py",
   "mimetype": "text/x-python",
   "name": "python",
   "nbconvert_exporter": "python",
   "pygments_lexer": "ipython3",
   "version": "3.9.13"
  }
 },
 "nbformat": 4,
 "nbformat_minor": 2
}
